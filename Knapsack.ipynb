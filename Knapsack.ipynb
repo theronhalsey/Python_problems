{
 "cells": [
  {
   "cell_type": "code",
   "execution_count": 255,
   "metadata": {},
   "outputs": [],
   "source": [
    "objects = [{\"name\": \"books\", \"weight\": 5, \"value\": 10}, {\"name\": \"guitar\", \"weight\": 10, \"value\": 100}, {\"name\": \"tv\",\"weight\": 30, \"value\": 400}, {\"name\": \"jewelry\", \"weight\": 1, \"value\": 200}, {\"name\": \"dvds\", \"weight\": 3, \"value\": 15}]\n",
    "knapsacks = [{\"size\": \"Extra Small\", \"capacity\": 10}, {\"size\": \"Small\", \"capacity\": 15}, {\"size\": \"Medium\", \"capacity\": 20}, {\"size\": \"Large\", \"capacity\": 30}, {\"size\": \"Extra Large\", \"capacity\": 40}]\n",
    "all_combinations = [[[] for n in range(len(objects) + 1)] for object in objects]\n",
    "weights_and_values = [[{\"total_weight\": 0, \"total_value\": 0} for n in range(len(all_combinations[0]))] for row in all_combinations]\n",
    "\n",
    "def total_weights_and_values(matrix_entry, row, col):\n",
    "    total_weight = 0\n",
    "    total_value = 0\n",
    "    for item in matrix_entry:\n",
    "        total_weight += item[\"weight\"]\n",
    "        total_value += item[\"value\"]\n",
    "    weights_and_values[row][col][\"total_weight\"] += total_weight\n",
    "    weights_and_values[row][col][\"total_value\"] += total_value\n",
    "\n",
    "def find_best_loot(knapsack):\n",
    "    row_num = 0\n",
    "    col_num = 0\n",
    "    highest_value = 0\n",
    "    items_to_take = []\n",
    "    for row in weights_and_values:\n",
    "        for col in row:\n",
    "            if col[\"total_weight\"] <= knapsack[\"capacity\"] and col[\"total_value\"] > highest_value:\n",
    "                highest_value = col[\"total_value\"]\n",
    "                items_to_take = [item[\"name\"] for item in all_combinations[row_num][col_num]]\n",
    "            col_num += 1\n",
    "        col_num = 0\n",
    "        row_num += 1\n",
    "    items_string = items_to_take[0]\n",
    "    if len(items_to_take) > 1:\n",
    "        for num in range(1, len(items_to_take)):\n",
    "            if num == len(items_to_take) - 1:\n",
    "                items_string += \", and the \" + items_to_take[num]\n",
    "            else:\n",
    "                items_string += \", \" + items_to_take[num]\n",
    "    print(f\"With the {knapsack['size']} knapsack, you should steal the {items_string} and you'll make ${highest_value}!\") \n",
    "        \n",
    "for row in range(len(all_combinations)):\n",
    "    for col in range(len(all_combinations[row])):\n",
    "        if col == row:\n",
    "            all_combinations[row][col] = list(filter(lambda object: object != objects[col], objects))\n",
    "        elif col == row + 1:\n",
    "            all_combinations[row][col].append(objects[col - 1])\n",
    "        elif col > row + 1:\n",
    "            all_combinations[row][col].append(all_combinations[row][row + 1][0])\n",
    "            all_combinations[row][col].append(objects[col - 1])\n",
    "        else:\n",
    "            all_combinations[row][col] = list(filter(lambda object: object != objects[row], all_combinations[col][col]))      \n",
    "        total_weights_and_values(all_combinations[row][col], row, col)"
   ]
  },
  {
   "cell_type": "code",
   "execution_count": 256,
   "metadata": {},
   "outputs": [
    {
     "name": "stdout",
     "output_type": "stream",
     "text": [
      "With the Extra Small knapsack, you should steal the books, jewelry, and the dvds and you'll make $225!\n",
      "With the Small knapsack, you should steal the guitar, jewelry, and the dvds and you'll make $315!\n",
      "With the Medium knapsack, you should steal the books, guitar, jewelry, and the dvds and you'll make $325!\n",
      "With the Large knapsack, you should steal the tv and you'll make $400!\n",
      "With the Extra Large knapsack, you should steal the books, tv, jewelry, and the dvds and you'll make $625!\n"
     ]
    }
   ],
   "source": [
    "for knapsack in knapsacks:\n",
    "    find_best_loot(knapsack)"
   ]
  },
  {
   "cell_type": "code",
   "execution_count": null,
   "metadata": {},
   "outputs": [],
   "source": []
  }
 ],
 "metadata": {
  "kernelspec": {
   "display_name": "Python 3",
   "language": "python",
   "name": "python3"
  },
  "language_info": {
   "codemirror_mode": {
    "name": "ipython",
    "version": 3
   },
   "file_extension": ".py",
   "mimetype": "text/x-python",
   "name": "python",
   "nbconvert_exporter": "python",
   "pygments_lexer": "ipython3",
   "version": "3.8.5"
  }
 },
 "nbformat": 4,
 "nbformat_minor": 4
}
